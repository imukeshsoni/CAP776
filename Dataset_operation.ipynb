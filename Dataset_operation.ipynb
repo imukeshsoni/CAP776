{
 "cells": [
  {
   "cell_type": "code",
   "execution_count": 4,
   "metadata": {},
   "outputs": [],
   "source": [
    "import pandas as pd\n",
    "import numpy as np\n",
    "import matplotlib.pyplot as plt"
   ]
  },
  {
   "cell_type": "code",
   "execution_count": 5,
   "metadata": {},
   "outputs": [],
   "source": [
    "df = pd.read_excel(\"MukeshDataset.xlsx\")\n"
   ]
  },
  {
   "cell_type": "code",
   "execution_count": 6,
   "metadata": {},
   "outputs": [],
   "source": [
    "reg_no = df[['Regd No']].drop_duplicates()\n",
    "mhrd = df[['MHRDName']].drop_duplicates()\n",
    "courses = df[['Course']].drop_duplicates()"
   ]
  },
  {
   "cell_type": "code",
   "execution_count": 7,
   "metadata": {},
   "outputs": [
    {
     "data": {
      "text/plain": [
       "(         Regd No\n",
       " 0     7751776776\n",
       " 2     7753776776\n",
       " 3     7754776776\n",
       " 6     7755776776\n",
       " 9     7756776776\n",
       " ...          ...\n",
       " 1618  8133776776\n",
       " 1629  8135776776\n",
       " 1630  8136776776\n",
       " 1631  8137776776\n",
       " 1640  8138776776\n",
       " \n",
       " [257 rows x 1 columns], MHRDName    48\n",
       " dtype: int64,          Course\n",
       " 0      WVODHY88\n",
       " 1      WVODHY89\n",
       " 2     VISJTC541\n",
       " 3     VISJTC322\n",
       " 4     VISJTC323\n",
       " ...         ...\n",
       " 1624  FDNPLU192\n",
       " 1625   FDNPLU38\n",
       " 1626   FDNPLU39\n",
       " 1627  FDNPLU449\n",
       " 1628  FDNPLU533\n",
       " \n",
       " [753 rows x 1 columns])"
      ]
     },
     "execution_count": 7,
     "metadata": {},
     "output_type": "execute_result"
    }
   ],
   "source": [
    "reg_no,mhrd.count(),courses"
   ]
  },
  {
   "cell_type": "code",
   "execution_count": 8,
   "metadata": {},
   "outputs": [
    {
     "data": {
      "text/plain": [
       "(Course        30\n",
       " CourseType    30\n",
       " dtype: int64, Course        723\n",
       " CourseType    723\n",
       " dtype: int64)"
      ]
     },
     "execution_count": 8,
     "metadata": {},
     "output_type": "execute_result"
    }
   ],
   "source": [
    "ctype = df[['Course','CourseType']].drop_duplicates(subset='Course')\n",
    "ctype\n",
    "\n",
    "theory = ctype[ctype['CourseType'].eq('Theory')]\n",
    "practical = ctype[ctype['CourseType'].eq('Practical')]\n",
    "theory.dropna()\n",
    "practical.dropna()\n",
    "\n",
    "\n",
    "prac = practical.count()\n",
    "theo = theory.count()\n",
    "prac,theo"
   ]
  },
  {
   "cell_type": "code",
   "execution_count": 9,
   "metadata": {},
   "outputs": [
    {
     "data": {
      "text/plain": [
       "([<matplotlib.patches.Wedge at 0x223b9c43b48>,\n",
       "  <matplotlib.patches.Wedge at 0x223b9c51648>],\n",
       " [Text(1.0913950573561215, 0.13732016887052031, 'Practical Courses'),\n",
       "  Text(-1.0913950573561215, -0.13732016887052037, 'Theoretical Courses')],\n",
       " [Text(0.5953063949215208, 0.07490191029301108, '3.98'),\n",
       "  Text(-0.5953063949215208, -0.0749019102930111, '96.02')])"
      ]
     },
     "execution_count": 9,
     "metadata": {},
     "output_type": "execute_result"
    },
    {
     "data": {
      "image/png": "[encoded data removed]",
      "text/plain": [
       "<Figure size 432x288 with 1 Axes>"
      ]
     },
     "metadata": {},
     "output_type": "display_data"
    }
   ],
   "source": [
    "plt.title('Types of Courses available in an institute.')\n",
    "plt.pie((prac['Course'],theo['Course']),labels=['Practical Courses','Theoretical Courses'],autopct='%.2f',shadow=True)"
   ]
  },
  {
   "cell_type": "code",
   "execution_count": 10,
   "metadata": {},
   "outputs": [
    {
     "name": "stderr",
     "output_type": "stream",
     "text": [
      "C:\\Users\\Mukesh\\Anaconda3\\lib\\site-packages\\pandas\\core\\ops\\__init__.py:1115: FutureWarning: elementwise comparison failed; returning scalar instead, but in the future will perform elementwise comparison\n",
      "  result = method(y)\n"
     ]
    },
    {
     "data": {
      "text/plain": [
       "([<matplotlib.patches.Wedge at 0x223b9b6ef48>,\n",
       "  <matplotlib.patches.Wedge at 0x223b9c5c648>],\n",
       " [Text(-0.033610930578962334, 1.099486382519409, 'Day Scholars'),\n",
       "  Text(0.03361082763761719, -1.0994863856662866, 'Hostelers')],\n",
       " [Text(-0.01833323486125218, 0.5997198450105867, '50.97'),\n",
       "  Text(0.018333178711427554, -0.5997198467270654, '49.03')])"
      ]
     },
     "execution_count": 10,
     "metadata": {},
     "output_type": "execute_result"
    },
    {
     "data": {
      "image/png": "[encoded data removed]",
      "text/plain": [
       "<Figure size 432x288 with 1 Axes>"
      ]
     },
     "metadata": {},
     "output_type": "display_data"
    }
   ],
   "source": [
    "scholar = df[['Regd No','ScholarType']].drop_duplicates(subset='Regd No')\n",
    "scholar\n",
    "\n",
    "day = scholar[scholar.eq('Day Scholar')]\n",
    "hosteler = scholar[scholar.eq('Hostler')]\n",
    "\n",
    "day = day['ScholarType'].dropna()\n",
    "hosteler = hosteler['ScholarType'].dropna()\n",
    "\n",
    "plt.title('Types of Students in an Institute')\n",
    "plt.pie((day.count(),hosteler.count()),labels=['Day Scholars','Hostelers'],autopct='%.2f',shadow=True)"
   ]
  }
 ],
 "metadata": {
  "kernelspec": {
   "display_name": "Python 3",
   "language": "python",
   "name": "python3"
  },
  "language_info": {
   "codemirror_mode": {
    "name": "ipython",
    "version": 3
   },
   "file_extension": ".py",
   "mimetype": "text/x-python",
   "name": "python",
   "nbconvert_exporter": "python",
   "pygments_lexer": "ipython3",
   "version": "3.7.4"
  }
 },
 "nbformat": 4,
 "nbformat_minor": 2
}
