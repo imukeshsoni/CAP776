{
 "cells": [
  {
   "cell_type": "markdown",
   "metadata": {},
   "source": [
    "# Super 5 Tasks"
   ]
  },
  {
   "cell_type": "code",
   "execution_count": 1,
   "metadata": {},
   "outputs": [
    {
     "name": "stdout",
     "output_type": "stream",
     "text": [
      "Enter any string : Mukesh\n",
      "Number of vowels are : 2\n"
     ]
    }
   ],
   "source": [
    "str = input('Enter any string : ')\n",
    "count=0\n",
    "for i in str:\n",
    "    if(i==\"a\" or i==\"A\" or i==\"e\" or i==\"E\" or i==\"i\" or i==\"I\" or i==\"o\" or i==\"O\" or i==\"u\" or i==\"U\"):\n",
    "        count+=1\n",
    "print(\"Number of vowels are :\",count)"
   ]
  },
  {
   "cell_type": "code",
   "execution_count": 2,
   "metadata": {},
   "outputs": [
    {
     "name": "stdout",
     "output_type": "stream",
     "text": [
      "Tell me how much money you got for the movie dude? :500\n",
      "How much it will cost for traveling to the Cinema Hall? :50\n",
      "What is the cost for one ticket?150\n",
      "Going together with someone else? ;) How many of you are going together : 2\n",
      "How much your favourite snacks cost?200\n",
      "Buddy! :( we cant go to movie.\n",
      "Would you like to cut down something? Yes or No?Yes\n",
      "If you can sacrifice your favorite snacks then you're good to go.\n"
     ]
    }
   ],
   "source": [
    "available_money = int(input('Tell me how much money you got for the movie dude? :'))\n",
    "travel_cost = int(input('How much it will cost for traveling to the Cinema Hall? :'))\n",
    "ticket_cost = int(input('What is the cost for one ticket?'))\n",
    "no_of_person = int(input('Going together with someone else? ;) How many of you are going together : '))\n",
    "extra_cost = int(input('How much your favourite snacks cost?'))\n",
    "total = travel_cost + (ticket_cost*no_of_person) + extra_cost\n",
    "if(available_money>total):\n",
    "    print('Dude! You are good to go :)')\n",
    "else:\n",
    "    print('Buddy! :( we can''t go to movie.')\n",
    "    decision = input('Would you like to cut down something? Yes or No?')\n",
    "    if(decision=='Yes'):\n",
    "        if(total-extra_cost<=available_money):\n",
    "            print(\"If you can sacrifice your favorite snacks then you're good to go.\")\n",
    "        elif(total-travel_cost<=available_money):\n",
    "            print(\"If you can compromise with the travel medium then you may go to movie.!\")\n",
    "        elif(total-ticket_cost<=available_money):\n",
    "            print(\"If you go solo then maybe you can make it.\")\n",
    "    else:\n",
    "        print(\"I'm Sorry. You shouldn't go to movie :(\")"
   ]
  },
  {
   "cell_type": "markdown",
   "metadata": {},
   "source": [
    "# Hands on Experience 15-01-2020 "
   ]
  },
  {
   "cell_type": "code",
   "execution_count": 66,
   "metadata": {},
   "outputs": [
    {
     "name": "stdout",
     "output_type": "stream",
     "text": [
      "50\n",
      "-10\n",
      "0.6666666666666666\n",
      "600\n",
      "20\n",
      "0\n",
      "4.47213595499958\n",
      "400\n",
      "s is\n",
      "s\n",
      "Hello worldHello worldHello worldHello worldHello world\n"
     ]
    },
    {
     "data": {
      "text/plain": [
       "' olleH'"
      ]
     },
     "execution_count": 66,
     "metadata": {},
     "output_type": "execute_result"
    }
   ],
   "source": [
    "a = 20\n",
    "b = 30\n",
    "print(a+b)\n",
    "print(a-b)\n",
    "print(a/b)\n",
    "print(a*b)\n",
    "print(a%b)\n",
    "print(a//b)\n",
    "print(a**0.5)\n",
    "print(a**2)\n",
    "\n",
    "\n",
    "\"\"\" Task 1 - Write a program using strings in which there is a String \"Maths\" use membership operator to find out whether\n",
    "'M' is present in MATHS.\"\"\"\n",
    "str = 'MATHS'\n",
    "'M' in str\n",
    "\n",
    "'''Print the characters from 3 to 7 '''\n",
    "string = 'This is a string'\n",
    "print(string[3:7])\n",
    "\n",
    "'''Skip any character'''\n",
    "print(string[3:4:7])\n",
    "\n",
    "'''String is 'Hello world' show the reverse of this(use slice)'''\n",
    "st = 'Hello world'\n",
    "st[::-1]\n",
    "\n",
    "'''String = 'I am a Student' fetch 'Stu' from the string '''\n",
    "stu = 'I am a Student'\n",
    "\n",
    "'''String 'Hello world' show the repetition of string 5 times '''\n",
    "print(st*5)\n",
    "\n",
    "''' Get the charcter value from 5 to 1'''\n",
    "st = 'Hello world'\n",
    "st[5:-12:-1]\n"
   ]
  },
  {
   "cell_type": "code",
   "execution_count": 70,
   "metadata": {},
   "outputs": [
    {
     "name": "stdout",
     "output_type": "stream",
     "text": [
      "H\n"
     ]
    },
    {
     "data": {
      "text/plain": [
       "False"
      ]
     },
     "execution_count": 70,
     "metadata": {},
     "output_type": "execute_result"
    }
   ],
   "source": [
    "\n",
    "''' Take a string and reverse it then find out any character from it'''\n",
    "\n",
    "st = \"Hello\"\n",
    "new = st[::-1]\n",
    "print(new[4])\n",
    "'H' is st"
   ]
  },
  {
   "cell_type": "markdown",
   "metadata": {},
   "source": [
    "# PPTs exercises Lab work"
   ]
  },
  {
   "cell_type": "code",
   "execution_count": 19,
   "metadata": {},
   "outputs": [
    {
     "name": "stdout",
     "output_type": "stream",
     "text": [
      "-6\n"
     ]
    }
   ],
   "source": [
    "'''Question 1. Take the sentence \"All work and no play makes jack a dull boy\" store each separate variable,\n",
    "then print out the sentence on one line using print.'''\n",
    "sentence = 'All, work and no play makes jack a dull boy'\n",
    "'''for i in sentence:\n",
    "    str = i\n",
    "    print(str)'''\n",
    "length = len(sentence)\n",
    "##for i in range(0,length):\n",
    "    #print(sentence[0:i+1])\n",
    "'''Question 2. Add parenthesis to the expression 6 * 1 - 2 to change its value from 4 to -6.'''\n",
    "exp = 6*(1-2)\n",
    "print(exp)"
   ]
  },
  {
   "cell_type": "code",
   "execution_count": 33,
   "metadata": {},
   "outputs": [
    {
     "data": {
      "text/plain": [
       "10"
      ]
     },
     "execution_count": 33,
     "metadata": {},
     "output_type": "execute_result"
    }
   ],
   "source": [
    "'''Place a comment before a line of code that previously worked, and record what\n",
    "happens when you rerun the program.'''\n",
    "#print('ABC')\n",
    "\n",
    "'''Start the Python interpreter and enter bruce + 4 at the prompt. This will give you an\n",
    "error:\n",
    "5. NameError: name 'bruce' is not defined\n",
    "Assign a value to bruce so that bruce + 4 evaluates to 10.'''\n",
    "\n",
    "#bruce = 6\n",
    "bruce+4"
   ]
  },
  {
   "cell_type": "code",
   "execution_count": 44,
   "metadata": {},
   "outputs": [
    {
     "name": "stdout",
     "output_type": "stream",
     "text": [
      "Enter the number of years that money will be compounded for: 2\n",
      "11664.000000000002\n"
     ]
    }
   ],
   "source": [
    "'''The formula for computing the final amount if one is earning compound interest is\n",
    "given on Wikipedia as\n",
    "    A = P(1+R/n)**nt\n",
    "Write a Python program that assigns the principal amount of $10000 to variable P,\n",
    "assign to n the value 12, and assign to r the interest rate of 8%. Then have the\n",
    "program prompt the user for the number of years t that the money will be\n",
    "compounded for. Calculate and print the final amount after t years.'''\n",
    "p = int(10000) #int(input('Enter the principle amount:'))\n",
    "n = int(12) #int(input('Enter the number of times interest applied per time period: '))\n",
    "r = int(8) #int(input('Enter the interest rate: '))\n",
    "t = int(input('Enter the number of years that money will be compounded for: '))\n",
    "\n",
    "a = p*(pow((1+r/100),t))\n",
    "print(a)\n",
    "\n"
   ]
  },
  {
   "cell_type": "code",
   "execution_count": 51,
   "metadata": {},
   "outputs": [
    {
     "data": {
      "text/plain": [
       "0"
      ]
     },
     "execution_count": 51,
     "metadata": {},
     "output_type": "execute_result"
    }
   ],
   "source": [
    "9%5\n",
    "15%12\n",
    "12%15\n",
    "6%6\n",
    "0%7\n"
   ]
  },
  {
   "cell_type": "code",
   "execution_count": 57,
   "metadata": {},
   "outputs": [
    {
     "name": "stdout",
     "output_type": "stream",
     "text": [
      "14 PM\n"
     ]
    }
   ],
   "source": [
    "'''You look at the clock and it is exactly 2pm. You set an alarm to go off in 51 hours. At\n",
    "what time does the alarm go off? (Hint: you could count on your fingers, but this is\n",
    "\n",
    "not what we’re after. If you are tempted to count on your fingers, change the 51 to\n",
    "5100.)'''\n",
    "time = int(2)\n",
    "alarm_time = int(36)\n",
    "print((alarm_time%24)+time,'PM')"
   ]
  },
  {
   "cell_type": "code",
   "execution_count": 88,
   "metadata": {},
   "outputs": [
    {
     "name": "stdout",
     "output_type": "stream",
     "text": [
      "Enter the current time:4\n",
      "Enter the alarm time:5100\n",
      "Your alarm will ring at : 4\n"
     ]
    }
   ],
   "source": [
    "'''Write a Python program to solve the general version of the above problem. Ask the\n",
    "user for the time now (in hours), and ask for the number of hours to wait. Your\n",
    "program should output what the time will be on the clock when the alarm goes off.'''\n",
    "time = int(input('Enter the current time:'))\n",
    "alarm_time = int(input('Enter the alarm time:'))\n",
    "print('Your alarm will ring at :', ((alarm_time%24)%12+time))"
   ]
  },
  {
   "cell_type": "code",
   "execution_count": 84,
   "metadata": {},
   "outputs": [
    {
     "name": "stdout",
     "output_type": "stream",
     "text": [
      "1.3333333333333333\n",
      "1.3333333333333333\n",
      "7\n",
      "0\n",
      "512\n",
      "64\n",
      "512\n",
      "1.0 4.0\n",
      "abc\n",
      "cd\n",
      "o\n"
     ]
    }
   ],
   "source": [
    "'''Question 10.The value of the expressions 4/(3*(2-1)) and 4/3*(2-1)'''\n",
    "print(4/(3*(2-1)))\n",
    "print(4/3*(2-1))\n",
    "\n",
    "'''4 + 3 % 5'''\n",
    "print(4 + 3 % 5)\n",
    "\n",
    "'''Evaluate the expression given below if A = 16 and B = 15. A % B // A'''\n",
    "A,B = 16,15\n",
    "print(A%B//A)\n",
    "\n",
    "'''What will be the value of x in the following Python expression? x = int(43.55+2/2)'''\n",
    "x = int(43.55+2/2)\n",
    "x\n",
    "2+4.00, 2**4.0\n",
    "\n",
    "'''What are the values of the following Python expressions?\n",
    "16. 2**(3**2)\n",
    "17. (2**3)**2\n",
    "18. 2**3**2\n",
    "19. 8/4/2, 8/(4/2)\n",
    "20. \"a\"+\"bc\"\n",
    "21. \"abcd\"[2:]\n",
    "22. str1 = 'hello' ,str2 = ','str3 = 'world', str1[-1:]'''\n",
    "\n",
    "print(2**(3**2))\n",
    "print((2**3)**2)\n",
    "print(2**3**2)\n",
    "print(8/4/2, 8/(4/2))\n",
    "8/4/2, 8/(4/2)\n",
    "print(\"a\"+\"bc\")\n",
    "print(\"abcd\"[2:])\n",
    "str1 = 'hello'\n",
    "str2 = ',' \n",
    "str3 = 'world'\n",
    "print(str1[-1:])"
   ]
  },
  {
   "cell_type": "markdown",
   "metadata": {},
   "source": [
    "# PPTs Exercise Assignments"
   ]
  },
  {
   "cell_type": "code",
   "execution_count": 1,
   "metadata": {},
   "outputs": [
    {
     "name": "stdout",
     "output_type": "stream",
     "text": [
      "Tell me how much money you got for the movie dude? :asd\n"
     ]
    },
    {
     "ename": "ValueError",
     "evalue": "invalid literal for int() with base 10: 'asd'",
     "output_type": "error",
     "traceback": [
      "\u001b[1;31m---------------------------------------------------------------------------\u001b[0m",
      "\u001b[1;31mValueError\u001b[0m                                Traceback (most recent call last)",
      "\u001b[1;32m<ipython-input-1-381693fee532>\u001b[0m in \u001b[0;36m<module>\u001b[1;34m\u001b[0m\n\u001b[1;32m----> 1\u001b[1;33m \u001b[0mavailable_money\u001b[0m \u001b[1;33m=\u001b[0m \u001b[0mint\u001b[0m\u001b[1;33m(\u001b[0m\u001b[0minput\u001b[0m\u001b[1;33m(\u001b[0m\u001b[1;34m'Tell me how much money you got for the movie dude? :'\u001b[0m\u001b[1;33m)\u001b[0m\u001b[1;33m)\u001b[0m\u001b[1;33m\u001b[0m\u001b[1;33m\u001b[0m\u001b[0m\n\u001b[0m\u001b[0;32m      2\u001b[0m \u001b[0mtravel_cost\u001b[0m \u001b[1;33m=\u001b[0m \u001b[0mint\u001b[0m\u001b[1;33m(\u001b[0m\u001b[0minput\u001b[0m\u001b[1;33m(\u001b[0m\u001b[1;34m'How much it will cost for traveling to the Cinema Hall? :'\u001b[0m\u001b[1;33m)\u001b[0m\u001b[1;33m)\u001b[0m\u001b[1;33m\u001b[0m\u001b[1;33m\u001b[0m\u001b[0m\n\u001b[0;32m      3\u001b[0m \u001b[0mticket_cost\u001b[0m \u001b[1;33m=\u001b[0m \u001b[0mint\u001b[0m\u001b[1;33m(\u001b[0m\u001b[0minput\u001b[0m\u001b[1;33m(\u001b[0m\u001b[1;34m'What is the cost for one ticket?'\u001b[0m\u001b[1;33m)\u001b[0m\u001b[1;33m)\u001b[0m\u001b[1;33m\u001b[0m\u001b[1;33m\u001b[0m\u001b[0m\n\u001b[0;32m      4\u001b[0m \u001b[0mno_of_person\u001b[0m \u001b[1;33m=\u001b[0m \u001b[0mint\u001b[0m\u001b[1;33m(\u001b[0m\u001b[0minput\u001b[0m\u001b[1;33m(\u001b[0m\u001b[1;34m'Going together with someone else? ;) How many of you are going together : '\u001b[0m\u001b[1;33m)\u001b[0m\u001b[1;33m)\u001b[0m\u001b[1;33m\u001b[0m\u001b[1;33m\u001b[0m\u001b[0m\n\u001b[0;32m      5\u001b[0m \u001b[0mextra_cost\u001b[0m \u001b[1;33m=\u001b[0m \u001b[0mint\u001b[0m\u001b[1;33m(\u001b[0m\u001b[0minput\u001b[0m\u001b[1;33m(\u001b[0m\u001b[1;34m'How much your favourite snacks cost?'\u001b[0m\u001b[1;33m)\u001b[0m\u001b[1;33m)\u001b[0m\u001b[1;33m\u001b[0m\u001b[1;33m\u001b[0m\u001b[0m\n",
      "\u001b[1;31mValueError\u001b[0m: invalid literal for int() with base 10: 'asd'"
     ]
    }
   ],
   "source": []
  },
  {
   "cell_type": "code",
   "execution_count": 2,
   "metadata": {},
   "outputs": [
    {
     "name": "stdout",
     "output_type": "stream",
     "text": [
      "Input length 20\n",
      "Input breadth 20\n",
      "it is a Square\n"
     ]
    }
   ],
   "source": [
    "length, breadth = int(input('Input length ')), int(input('Input breadth '))\n",
    "if(length==breadth):\n",
    "    print('it is a Square')\n",
    "else:\n",
    "    print('it is not a Square')"
   ]
  },
  {
   "cell_type": "code",
   "execution_count": 4,
   "metadata": {},
   "outputs": [
    {
     "name": "stdout",
     "output_type": "stream",
     "text": [
      "Input the number of quantities :2000\n",
      "180000.0\n"
     ]
    }
   ],
   "source": [
    "quantity = int(input('Input the number of quantities :'))\n",
    "total = quantity*100\n",
    "if(quantity>=1000):\n",
    "    total = total - (total*10/100)\n",
    "    \n",
    "print(total)"
   ]
  },
  {
   "cell_type": "code",
   "execution_count": 14,
   "metadata": {},
   "outputs": [
    {
     "name": "stdout",
     "output_type": "stream",
     "text": [
      "square root is there\n"
     ]
    }
   ],
   "source": [
    "import math\n",
    "num = 1089\n",
    "mod = math.sqrt(num)\n",
    "if(mod.is_integer()):\n",
    "    print('square root is there')\n",
    "else:\n",
    "    print('no square')"
   ]
  },
  {
   "cell_type": "markdown",
   "metadata": {},
   "source": [
    "Question : A school has following rules for the grading\n",
    "below 25 - F\n",
    "25-45 - E\n",
    "45-50 - D\n",
    "50-60 - C\n",
    "60-80 - B\n",
    "80- above - A\n",
    "\n"
   ]
  },
  {
   "cell_type": "markdown",
   "metadata": {},
   "source": [
    "Question : A student will not be allowed to sit in the exam if attendance is less than 75%\n",
    "take following input from the user \n",
    "1) Number of class held\n",
    "2) Number of classes attendent \n",
    "and Print\n",
    "3) percentage of Attended\n",
    "Is student is allowed to sit in the exam or not"
   ]
  },
  {
   "cell_type": "code",
   "execution_count": 10,
   "metadata": {},
   "outputs": [
    {
     "name": "stdout",
     "output_type": "stream",
     "text": [
      "2\n"
     ]
    }
   ],
   "source": [
    "#Creating a base class\n",
    "class Base:\n",
    "    def __init__(self):\n",
    "        #protected Member\n",
    "        self._a = 2\n",
    "class Derived(Base):\n",
    "    def __init__(self):\n",
    "        \n",
    "        #calling constructor of base class\n",
    "        Base.__init__(self)\n",
    "        print('Calling Protected member')\n",
    "        print(self._a)\n",
    "#Creating object\n",
    "obj = Base()\n",
    "print(obj._a)"
   ]
  },
  {
   "cell_type": "markdown",
   "metadata": {},
   "source": [
    "There is a variable 'a' which has the keyword SAME. You have to print whether a is there or not in the variable SAME. "
   ]
  },
  {
   "cell_type": "code",
   "execution_count": 11,
   "metadata": {},
   "outputs": [
    {
     "data": {
      "text/plain": [
       "True"
      ]
     },
     "execution_count": 11,
     "metadata": {},
     "output_type": "execute_result"
    }
   ],
   "source": [
    "A = 'SAME'\n",
    "'A' in A"
   ]
  },
  {
   "cell_type": "markdown",
   "metadata": {},
   "source": [
    "There is a variable Z in which there is a string present 'I am Mukesh' U have to remove the spaces and reverse the string."
   ]
  },
  {
   "cell_type": "code",
   "execution_count": 38,
   "metadata": {},
   "outputs": [
    {
     "name": "stdout",
     "output_type": "stream",
     "text": [
      "hsekuMmaI\n"
     ]
    }
   ],
   "source": [
    "Z = 'I am Mukesh'\n",
    "R = Z[::-1]\n",
    "N = ''\n",
    "for i in range(0,len(Z)):\n",
    "    \n",
    "    if(R[i]==' '):\n",
    "        continue;\n",
    "    N = N + R[i]\n",
    "    \n",
    "print(N)"
   ]
  },
  {
   "cell_type": "code",
   "execution_count": 48,
   "metadata": {},
   "outputs": [
    {
     "name": "stdout",
     "output_type": "stream",
     "text": [
      "Enter any no:17\n",
      "Number is prime\n"
     ]
    }
   ],
   "source": [
    "# WAP to find entered number is prime or not\n",
    "num = int(input('Enter any no:'))\n",
    "if(num==1 or num ==2):\n",
    "    print('Number is prime')\n",
    "for i in range(2,int(num/2)):\n",
    "    if(num%i):\n",
    "        print('Number is prime')\n",
    "        break\n",
    "    else:\n",
    "        print('Number is not prime')\n",
    "        break"
   ]
  },
  {
   "cell_type": "code",
   "execution_count": 56,
   "metadata": {},
   "outputs": [
    {
     "name": "stdout",
     "output_type": "stream",
     "text": [
      "enter num12\n",
      "number is even\n"
     ]
    }
   ],
   "source": [
    "num = int(input('enter num'))\n",
    "print('number is even') if (num%2==0) else  print('number is odd')"
   ]
  },
  {
   "cell_type": "markdown",
   "metadata": {},
   "source": [
    "# Self Practice"
   ]
  },
  {
   "cell_type": "code",
   "execution_count": 24,
   "metadata": {},
   "outputs": [
    {
     "name": "stdout",
     "output_type": "stream",
     "text": [
      "Enter your guessed value:5\n",
      "Your guess is too low\n",
      "16 Was the number\n"
     ]
    }
   ],
   "source": [
    "import random\n",
    "\n",
    "original = random.randrange(1,20)\n",
    "\n",
    "guess = int(input(\"Enter your guessed value:\"))\n",
    "if(guess > original):\n",
    "    print('Your guess is too high')\n",
    "elif (guess < original):\n",
    "    print('Your guess is too low')\n",
    "else:\n",
    "    print('You hit it!')\n",
    "    \n",
    "print(original ,'Was the number')"
   ]
  },
  {
   "cell_type": "code",
   "execution_count": 32,
   "metadata": {
    "scrolled": true
   },
   "outputs": [
    {
     "name": "stdout",
     "output_type": "stream",
     "text": [
      "Collecting google\n",
      "  Downloading https://files.pythonhosted.org/packages/81/51/36af1d18648574d13d8f43e863e95a97fe6f43d54a13fbcf272c638c10e9/google-2.0.3-py2.py3-none-any.whl (45kB)\n",
      "Requirement already satisfied: beautifulsoup4 in c:\\users\\mukesh\\anaconda3\\lib\\site-packages (from google) (4.8.0)\n",
      "Requirement already satisfied: soupsieve>=1.2 in c:\\users\\mukesh\\anaconda3\\lib\\site-packages (from beautifulsoup4->google) (1.9.3)\n",
      "Installing collected packages: google\n",
      "Successfully installed google-2.0.3\n",
      "Note: you may need to restart the kernel to use updated packages.\n"
     ]
    }
   ],
   "source": [
    "pip install google"
   ]
  },
  {
   "cell_type": "code",
   "execution_count": 9,
   "metadata": {},
   "outputs": [
    {
     "name": "stdout",
     "output_type": "stream",
     "text": [
      "What do you want to search on Google? :amazon\n",
      "https://www.amazon.in/?sa=X&ved=2ahUKEwjC9JHwl_7mAhU84zgGHUZrA48QFjAAegQIBxAB\n",
      "https://www.amazon.in/gp/sva/dashboard?sa=X&ved=2ahUKEwjC9JHwl_7mAhU84zgGHUZrA48Q0gIwAHoECAcQAg\n",
      "https://www.amazon.in/amazon-coupons/b?ie=UTF8&node=10465704031&sa=X&ved=2ahUKEwjC9JHwl_7mAhU84zgGHUZrA48Q0gIwAHoECAcQAw\n",
      "https://www.amazon.in/business?ref=IA_hdfc&sa=X&ved=2ahUKEwjC9JHwl_7mAhU84zgGHUZrA48Q0gIwAHoECAcQBA\n",
      "https://www.amazon.in/b?ie=UTF8&node=6967394031&sa=X&ved=2ahUKEwjC9JHwl_7mAhU84zgGHUZrA48Q0gIwAHoECAcQBQ\n",
      "https://www.amazon.com/gp/prime?sa=X&ved=2ahUKEwjC9JHwl_7mAhU84zgGHUZrA48QFjABegQIBhAB\n",
      "https://www.primevideo.com/?sa=X&ved=2ahUKEwjC9JHwl_7mAhU84zgGHUZrA48QFjACegQIARAB\n",
      "http://www.amazon.in/\n",
      "https://www.amazon.com/\n",
      "https://en.wikipedia.org/wiki/Amazon_(company)?sa=X&ved=2ahUKEwjC9JHwl_7mAhU84zgGHUZrA48QmhMwBXoECAsQCA\n",
      "https://www.aboutamazon.com/?sa=X&ved=2ahUKEwjC9JHwl_7mAhU84zgGHUZrA48QFjAOegQIAxAB\n",
      "https://www.livemint.com/news/india/amazon-s-jeff-bezos-to-face-nationwide-protests-from-traders-during-india-trip-11578746929533.html?sa=X&ved=2ahUKEwjC9JHwl_7mAhU84zgGHUZrA48QqOcBMA96BAgAEAI\n",
      "https://www.cnbc.com/2020/01/10/package-theft-how-amazon-google-others-are-fighting-porch-pirates.html?sa=X&ved=2ahUKEwjC9JHwl_7mAhU84zgGHUZrA48QqOcBMBB6BAgAEAU\n",
      "https://www.livemint.com/companies/news/traders-to-stage-protests-as-amazon-s-bezos-is-expected-to-visit-india-11578833052976.html?sa=X&ved=2ahUKEwjC9JHwl_7mAhU84zgGHUZrA48QqOcBMBF6BAgAEAg\n",
      "https://twitter.com/amazon?ref_src=twsrc%5Egoogle%7Ctwcamp%5Eserp%7Ctwgr%5Eauthor\n",
      "http://amazon.com/plants\n",
      "https://twitter.com/amazon/status/1215800656210157570/photo/1\n",
      "https://twitter.com/amazon/status/1215800656210157570?ref_src=twsrc%5Egoogle%7Ctwcamp%5Eserp%7Ctwgr%5Etweet\n",
      "https://www.youtube.com/user/amazon?sa=X&ved=2ahUKEwjC9JHwl_7mAhU84zgGHUZrA48QFjAUegQIBRAB\n",
      "https://en.wikipedia.org/wiki/Amazon_(company)?sa=X&ved=2ahUKEwjC9JHwl_7mAhU84zgGHUZrA48QFjAVegQIAhAB\n"
     ]
    }
   ],
   "source": [
    "from googlesearch import search\n",
    "\n",
    "query = input('What do you want to search on Google? :')\n",
    "for i in search(query, tld='com', lang='en', num=10, stop=20, pause=2.0):\n",
    "    print(i)\n"
   ]
  },
  {
   "cell_type": "code",
   "execution_count": 10,
   "metadata": {
    "scrolled": true
   },
   "outputs": [
    {
     "name": "stdout",
     "output_type": "stream",
     "text": [
      "Requirement already satisfied: ipython in c:\\users\\mukesh\\anaconda3\\lib\\site-packages (7.8.0)\n",
      "Requirement already satisfied: pickleshare in c:\\users\\mukesh\\anaconda3\\lib\\site-packages (from ipython) (0.7.5)\n",
      "Requirement already satisfied: colorama; sys_platform == \"win32\" in c:\\users\\mukesh\\anaconda3\\lib\\site-packages (from ipython) (0.4.1)\n",
      "Requirement already satisfied: setuptools>=18.5 in c:\\users\\mukesh\\anaconda3\\lib\\site-packages (from ipython) (41.4.0)\n",
      "Requirement already satisfied: pygments in c:\\users\\mukesh\\anaconda3\\lib\\site-packages (from ipython) (2.4.2)\n",
      "Requirement already satisfied: traitlets>=4.2 in c:\\users\\mukesh\\anaconda3\\lib\\site-packages (from ipython) (4.3.3)\n",
      "Requirement already satisfied: backcall in c:\\users\\mukesh\\anaconda3\\lib\\site-packages (from ipython) (0.1.0)\n",
      "Requirement already satisfied: prompt-toolkit<2.1.0,>=2.0.0 in c:\\users\\mukesh\\anaconda3\\lib\\site-packages (from ipython) (2.0.10)\n",
      "Requirement already satisfied: decorator in c:\\users\\mukesh\\anaconda3\\lib\\site-packages (from ipython) (4.4.0)\n",
      "Requirement already satisfied: jedi>=0.10 in c:\\users\\mukesh\\anaconda3\\lib\\site-packages (from ipython) (0.15.1)\n",
      "Requirement already satisfied: ipython-genutils in c:\\users\\mukesh\\anaconda3\\lib\\site-packages (from traitlets>=4.2->ipython) (0.2.0)\n",
      "Requirement already satisfied: six in c:\\users\\mukesh\\anaconda3\\lib\\site-packages (from traitlets>=4.2->ipython) (1.12.0)\n",
      "Requirement already satisfied: wcwidth in c:\\users\\mukesh\\anaconda3\\lib\\site-packages (from prompt-toolkit<2.1.0,>=2.0.0->ipython) (0.1.7)\n",
      "Requirement already satisfied: parso>=0.5.0 in c:\\users\\mukesh\\anaconda3\\lib\\site-packages (from jedi>=0.10->ipython) (0.5.1)\n",
      "Note: you may need to restart the kernel to use updated packages.\n"
     ]
    }
   ],
   "source": [
    "pip install ipython"
   ]
  },
  {
   "cell_type": "code",
   "execution_count": null,
   "metadata": {},
   "outputs": [],
   "source": [
    "pip install tensorflow"
   ]
  },
  {
   "cell_type": "code",
   "execution_count": 3,
   "metadata": {},
   "outputs": [
    {
     "ename": "ModuleNotFoundError",
     "evalue": "No module named 'tensorflow'",
     "output_type": "error",
     "traceback": [
      "\u001b[1;31m---------------------------------------------------------------------------\u001b[0m",
      "\u001b[1;31mModuleNotFoundError\u001b[0m                       Traceback (most recent call last)",
      "\u001b[1;32m<ipython-input-3-213f3977f651>\u001b[0m in \u001b[0;36m<module>\u001b[1;34m\u001b[0m\n\u001b[1;32m----> 1\u001b[1;33m \u001b[1;32mimport\u001b[0m \u001b[0mtensorflow\u001b[0m \u001b[1;32mas\u001b[0m \u001b[0mtf\u001b[0m\u001b[1;33m\u001b[0m\u001b[1;33m\u001b[0m\u001b[0m\n\u001b[0m\u001b[0;32m      2\u001b[0m \u001b[1;32mfrom\u001b[0m \u001b[0mtensorflow\u001b[0m \u001b[1;32mimport\u001b[0m \u001b[0mkeras\u001b[0m\u001b[1;33m\u001b[0m\u001b[1;33m\u001b[0m\u001b[0m\n\u001b[0;32m      3\u001b[0m \u001b[1;33m\u001b[0m\u001b[0m\n\u001b[0;32m      4\u001b[0m \u001b[0mmnist\u001b[0m \u001b[1;33m=\u001b[0m \u001b[0mtf\u001b[0m\u001b[1;33m.\u001b[0m\u001b[0mkeras\u001b[0m\u001b[1;33m.\u001b[0m\u001b[0mdatasets\u001b[0m\u001b[1;33m.\u001b[0m\u001b[0mfashion_mnist\u001b[0m\u001b[1;33m\u001b[0m\u001b[1;33m\u001b[0m\u001b[0m\n\u001b[0;32m      5\u001b[0m \u001b[1;33m\u001b[0m\u001b[0m\n",
      "\u001b[1;31mModuleNotFoundError\u001b[0m: No module named 'tensorflow'"
     ]
    }
   ],
   "source": [
    "import tensorflow as tf\n",
    "from tensorflow import keras\n",
    "\n",
    "mnist = tf.keras.datasets.fashion_mnist\n",
    "\n",
    "(training_images, training_labels) , (test_images, test_labels) = mnist.load_data()\n",
    "\n",
    "import matplotlib.pyplot as plt\n",
    "plt.imshow(training_images[43]);\n",
    "print(training_images[43])\n",
    "print(training_labels[43])\n",
    "\n",
    "\n",
    "training_images = training_images/255.0\n",
    "test_images = test_images/255.0\n",
    "\n",
    "\n",
    "model = tf.keras.models.Sequential([tf.keras.layers.Flatten(),\n",
    "                            tf.keras.layers.Dense(128,activation=tf.nn.relu),\n",
    "                            tf.keras.layers.Dense(10,activation=tf.nn.softmax)])\n",
    "\n",
    "\n",
    "model.compile(optimizer = tf.train.AdamOptimizer(),\n",
    "              loss = 'sparse_categorical_crossentropy',\n",
    "              metrics = ['accuracy'])\n",
    "model.fit(training_images,training_labels,epochs = 20)\n",
    "\n",
    "\n",
    "model.evaluate(test_images,test_labels)"
   ]
  },
  {
   "cell_type": "code",
   "execution_count": null,
   "metadata": {},
   "outputs": [],
   "source": []
  },
  {
   "cell_type": "code",
   "execution_count": null,
   "metadata": {},
   "outputs": [],
   "source": []
  }
 ],
 "metadata": {
  "kernelspec": {
   "display_name": "Python 3",
   "language": "python",
   "name": "python3"
  },
  "language_info": {
   "codemirror_mode": {
    "name": "ipython",
    "version": 3
   },
   "file_extension": ".py",
   "mimetype": "text/x-python",
   "name": "python",
   "nbconvert_exporter": "python",
   "pygments_lexer": "ipython3",
   "version": "3.7.4"
  }
 },
 "nbformat": 4,
 "nbformat_minor": 4
}
