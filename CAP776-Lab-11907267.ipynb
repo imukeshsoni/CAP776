{
 "cells": [
  {
   "cell_type": "markdown",
   "metadata": {},
   "source": [
    "# Lab 2"
   ]
  },
  {
   "cell_type": "markdown",
   "metadata": {},
   "source": [
    "# Maximum of 3 number"
   ]
  },
  {
   "cell_type": "code",
   "execution_count": null,
   "metadata": {},
   "outputs": [],
   "source": [
    " def maximum(x,y,z):\n",
    "    if(x>y):\n",
    "        if(x>z):\n",
    "            m=x\n",
    "        else:\n",
    "            m=z\n",
    "    else:\n",
    "        if(y>z):\n",
    "            m=y\n",
    "        else:\n",
    "            m=z\n",
    "    return m\n",
    "            \n",
    "a = int(input('Enter first number:'))\n",
    "b = int(input('Enter second number:'))\n",
    "c = int(input('Enter third number:'))\n",
    "\n",
    "print('Maximum =',maximum(a,b,c))\n",
    "        "
   ]
  },
  {
   "cell_type": "markdown",
   "metadata": {},
   "source": [
    "# Addition of items in list"
   ]
  },
  {
   "cell_type": "code",
   "execution_count": 19,
   "metadata": {},
   "outputs": [
    {
     "name": "stdout",
     "output_type": "stream",
     "text": [
      "201\n"
     ]
    }
   ],
   "source": [
    "l = [1,2,23,4,5,5,6,73,3,33,24,22]\n",
    "def addition():\n",
    "    s=0\n",
    "    for i in l:\n",
    "        s+=i\n",
    "    return s\n",
    "print(addition())"
   ]
  },
  {
   "cell_type": "markdown",
   "metadata": {},
   "source": [
    "# Reverse of a string"
   ]
  },
  {
   "cell_type": "code",
   "execution_count": 20,
   "metadata": {},
   "outputs": [
    {
     "data": {
      "text/plain": [
       "'hsekuM'"
      ]
     },
     "execution_count": 20,
     "metadata": {},
     "output_type": "execute_result"
    }
   ],
   "source": [
    "def reverse(string):\n",
    "    return string[::-1]\n",
    "\n",
    "string = 'Mukesh'\n",
    "reverse(string)\n"
   ]
  },
  {
   "cell_type": "markdown",
   "metadata": {},
   "source": [
    "# Factorial"
   ]
  },
  {
   "cell_type": "code",
   "execution_count": 26,
   "metadata": {},
   "outputs": [
    {
     "name": "stdout",
     "output_type": "stream",
     "text": [
      "Enter any no:3\n",
      "6\n"
     ]
    }
   ],
   "source": [
    "def fact(n):\n",
    "    \n",
    "    fact=1\n",
    "    for i in range(1,n+1):\n",
    "        fact*=i\n",
    "    return fact\n",
    "\n",
    "n = int(input('Enter any no:'))\n",
    "if(n>0):\n",
    "    print(fact(n))\n",
    "else:\n",
    "    print('Enter a positive number!')"
   ]
  },
  {
   "cell_type": "markdown",
   "metadata": {},
   "source": [
    "# Check a number is in range or not"
   ]
  },
  {
   "cell_type": "code",
   "execution_count": null,
   "metadata": {},
   "outputs": [],
   "source": [
    " def fun(n,x,y):\n",
    "    if n in range(x,y+1):\n",
    "        return True\n",
    "    else:\n",
    "        return False\n",
    "    \n",
    "print(fun(int(input(\"Enter any number: \")),int(input('Enter lower limit: ')),int(input('Enter upper limit: '))))\n"
   ]
  },
  {
   "cell_type": "markdown",
   "metadata": {},
   "source": [
    "# Calculate the number of upper case and lower case"
   ]
  },
  {
   "cell_type": "code",
   "execution_count": 46,
   "metadata": {},
   "outputs": [
    {
     "name": "stdout",
     "output_type": "stream",
     "text": [
      "Enter any string: MukehSh12\n",
      "Upper = 2 Lower = 5 Other = 2\n"
     ]
    }
   ],
   "source": [
    "def casecheck(st):\n",
    "    upper = 0\n",
    "    lower = 0\n",
    "    other = 0\n",
    "    for i in st:\n",
    "        if(i.isupper()):\n",
    "            upper+=1\n",
    "        elif(i.islower()):\n",
    "            lower+=1\n",
    "        else:\n",
    "            other+=1\n",
    "    return upper,lower,other\n",
    "\n",
    "\n",
    "x,y,z = casecheck(input('Enter any string: '))\n",
    "print('Upper =',x,'Lower =',y,'Other =',z)"
   ]
  },
  {
   "cell_type": "markdown",
   "metadata": {},
   "source": [
    "# Write a Python function that takes a list and returns a new list with unique elements of the first list."
   ]
  },
  {
   "cell_type": "code",
   "execution_count": 55,
   "metadata": {},
   "outputs": [
    {
     "data": {
      "text/plain": [
       "[1, 2, 3, 4, 4, 3]"
      ]
     },
     "execution_count": 55,
     "metadata": {},
     "output_type": "execute_result"
    }
   ],
   "source": [
    "def func(l):\n",
    "    set(l)\n",
    "    return l\n",
    "\n",
    "l = [1,2,3,4,4,3]\n",
    "list(func(l))"
   ]
  },
  {
   "cell_type": "code",
   "execution_count": null,
   "metadata": {},
   "outputs": [],
   "source": []
  },
  {
   "cell_type": "code",
   "execution_count": null,
   "metadata": {},
   "outputs": [],
   "source": []
  },
  {
   "cell_type": "code",
   "execution_count": 1,
   "metadata": {},
   "outputs": [
    {
     "name": "stdout",
     "output_type": "stream",
     "text": [
      "30\n"
     ]
    }
   ],
   "source": [
    "def myfunc(x):\n",
    "    return x+15\n",
    "\n",
    "print(myfunc(15))"
   ]
  },
  {
   "cell_type": "code",
   "execution_count": null,
   "metadata": {},
   "outputs": [],
   "source": []
  },
  {
   "cell_type": "code",
   "execution_count": 2,
   "metadata": {},
   "outputs": [
    {
     "name": "stdout",
     "output_type": "stream",
     "text": [
      "48\n"
     ]
    }
   ],
   "source": [
    "def myfunc2(x,y):\n",
    "    return x*y\n",
    "\n",
    "print(myfunc2(12,4))"
   ]
  },
  {
   "cell_type": "code",
   "execution_count": 4,
   "metadata": {},
   "outputs": [
    {
     "name": "stdout",
     "output_type": "stream",
     "text": [
      "200\n"
     ]
    }
   ],
   "source": [
    "mul = lambda x,y: x*y\n",
    "\n",
    "print(mul(10,20))"
   ]
  },
  {
   "cell_type": "code",
   "execution_count": 8,
   "metadata": {},
   "outputs": [
    {
     "name": "stdout",
     "output_type": "stream",
     "text": [
      "Enter any no:12\n",
      "636\n"
     ]
    }
   ],
   "source": [
    "import random\n",
    "\n",
    "def randomfunc(x):\n",
    "    r = random.randrange(1,100)\n",
    "    return x*r\n",
    "\n",
    "num = int(input('Enter any no:'))\n",
    "print(randomfunc(num))\n"
   ]
  },
  {
   "cell_type": "code",
   "execution_count": null,
   "metadata": {},
   "outputs": [],
   "source": []
  }
 ],
 "metadata": {
  "kernelspec": {
   "display_name": "Python 3",
   "language": "python",
   "name": "python3"
  }
 },
 "nbformat": 4,
 "nbformat_minor": 2
}
